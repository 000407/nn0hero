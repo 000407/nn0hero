{
 "cells": [
  {
   "cell_type": "code",
   "execution_count": 11,
   "id": "ec1eeda9-c700-4744-9060-71457251ca5f",
   "metadata": {},
   "outputs": [
    {
     "data": {
      "text/plain": [
       "Value(data=14.0)"
      ]
     },
     "execution_count": 11,
     "metadata": {},
     "output_type": "execute_result"
    }
   ],
   "source": [
    "class Value():\n",
    "    def __init__(self, data: int | float, children = (), op = '', label = ''):\n",
    "        self.data = data\n",
    "        self.grad = 0.0\n",
    "        self._backward = lambda: None\n",
    "        self._prev = set(children)\n",
    "        self._op = op\n",
    "        self._label = label\n",
    "\n",
    "    def __repr__(self):\n",
    "        return f\"Value(data={self.data})\"\n",
    "\n",
    "    def __add__(self, other: Value | int | float):\n",
    "        other = other if isinstance(other, Value) else Value(other)\n",
    "        out = Value(self.data + other.data, (self, other), '+')\n",
    "\n",
    "        def _backward():\n",
    "            self.grad += 1.0 * out.grad\n",
    "            addend.grad += 1.0 * out.grad\n",
    "\n",
    "        self._backward = _backward\n",
    "        \n",
    "        return out\n",
    "\n",
    "    def __mul__(self, other: Value | int | float):\n",
    "        other = other if isinstance(other, Value) else Value(other)\n",
    "        out = Value(self.data * other.data, (self, other), '*')\n",
    "        \n",
    "        def _backward():\n",
    "            self.grad += multiplier.data * out.grad\n",
    "            multiplier.grad += self.data * out.grad\n",
    "\n",
    "        self._backward = _backward\n",
    "            \n",
    "        return out\n",
    "\n",
    "    def __truediv__(self, other: Value | int | float):\n",
    "        denominator = other.data if isinstance(other, Value) else other\n",
    "\n",
    "        out = Value(self.data * denominator ** -1, (self, denominator))\n",
    "\n",
    "\n",
    "a = Value(2.0)\n",
    "b = Value(3.0)\n",
    "c = Value(5.0)\n",
    "(a + 1.0) * b + c"
   ]
  }
 ],
 "metadata": {
  "kernelspec": {
   "display_name": "Python 3 (ipykernel)",
   "language": "python",
   "name": "python3"
  },
  "language_info": {
   "codemirror_mode": {
    "name": "ipython",
    "version": 3
   },
   "file_extension": ".py",
   "mimetype": "text/x-python",
   "name": "python",
   "nbconvert_exporter": "python",
   "pygments_lexer": "ipython3",
   "version": "3.11.6"
  }
 },
 "nbformat": 4,
 "nbformat_minor": 5
}
